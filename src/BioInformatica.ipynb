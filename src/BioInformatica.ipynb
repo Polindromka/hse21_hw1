{
  "nbformat": 4,
  "nbformat_minor": 0,
  "metadata": {
    "colab": {
      "name": "BioInformatica.ipynb",
      "provenance": [],
      "collapsed_sections": [
        "R_2lzy4twWSI",
        "3AyWJHc5wuc-"
      ]
    },
    "kernelspec": {
      "name": "python3",
      "display_name": "Python 3"
    },
    "language_info": {
      "name": "python"
    }
  },
  "cells": [
    {
      "cell_type": "markdown",
      "metadata": {
        "id": "YaIlOzMX5j1P"
      },
      "source": [
        "#**Функции**"
      ]
    },
    {
      "cell_type": "code",
      "metadata": {
        "id": "kqcA9MdPgGI6"
      },
      "source": [
        "import re\n",
        "import numpy as np"
      ],
      "execution_count": 3,
      "outputs": []
    },
    {
      "cell_type": "code",
      "metadata": {
        "id": "PLY3CkpSfmda"
      },
      "source": [
        "def count_contigs(contig):\n",
        "  i=0\n",
        "  for line in contig:\n",
        "    if re.search('^>', line):\n",
        "        i+=1\n",
        "  return i"
      ],
      "execution_count": null,
      "outputs": []
    },
    {
      "cell_type": "code",
      "metadata": {
        "id": "siZMyAFPhfQk"
      },
      "source": [
        "def total_contigs(contig):\n",
        "  sum=0\n",
        "  for line in contig:\n",
        "    if re.search('^>', line):\n",
        "      found=re.search('len(.+?)_', line)\n",
        "      sum+=int(found.group(1))\n",
        "  return sum"
      ],
      "execution_count": null,
      "outputs": []
    },
    {
      "cell_type": "code",
      "metadata": {
        "id": "rk69a8YgmAIt"
      },
      "source": [
        "def max_contigs(contig):\n",
        "  max=0\n",
        "  for line in contig:\n",
        "    if re.search('^>', line):\n",
        "      found=re.search('len(.+?)_', line)\n",
        "      if int(found.group(1))>max:\n",
        "        max=int(found.group(1))\n",
        "  return max"
      ],
      "execution_count": null,
      "outputs": []
    },
    {
      "cell_type": "code",
      "metadata": {
        "id": "mlKNKRe9teqQ"
      },
      "source": [
        "def Longest(contig):\n",
        "  lines=list()\n",
        "  for line in contig:\n",
        "    if re.search('^>', line):\n",
        "      found=re.search('len(.+?)_', line)\n",
        "      lines.append(int(found.group(1)))\n",
        "  lines=np.asarray(lines)\n",
        "  total=lines.sum()\n",
        "  lines=np.sort(lines)\n",
        "  lines=np.flip(lines)\n",
        "  print(lines[0])"
      ],
      "execution_count": null,
      "outputs": []
    },
    {
      "cell_type": "code",
      "metadata": {
        "id": "Rs4FxtNg5qh2"
      },
      "source": [
        "def N50(contig):\n",
        "  lines=list()\n",
        "  for line in contig:\n",
        "    if re.search('^>', line):\n",
        "      found=re.search('len(.+?)_', line)\n",
        "      lines.append(int(found.group(1)))\n",
        "  lines=np.asarray(lines)\n",
        "  total=lines.sum()\n",
        "  lines=np.sort(lines)\n",
        "  lines=np.flip(lines)\n",
        "  n50=0\n",
        "  sum=0\n",
        "  i=0\n",
        "  while sum<total/2.0:\n",
        "    n50=lines[i]\n",
        "    sum+=lines[i]\n",
        "    i+=1\n",
        "  return n50"
      ],
      "execution_count": null,
      "outputs": []
    },
    {
      "cell_type": "code",
      "metadata": {
        "id": "XA-H9HoX_Xhb"
      },
      "source": [
        "def find_gaps(contig):\n",
        "    return len(re.findall(\"N+\", contig[1]))"
      ],
      "execution_count": 4,
      "outputs": []
    },
    {
      "cell_type": "code",
      "metadata": {
        "id": "iSn-Qn0OA47I"
      },
      "source": [
        "def gap_length(contig):\n",
        "    gaps=re.findall(\"N+\", contig[1])\n",
        "    sum=0\n",
        "    for gap in gaps:\n",
        "      sum+=len(gap)\n",
        "    return sum"
      ],
      "execution_count": 5,
      "outputs": []
    },
    {
      "cell_type": "markdown",
      "metadata": {
        "id": "R_2lzy4twWSI"
      },
      "source": [
        "#**Platanus assemble**"
      ]
    },
    {
      "cell_type": "code",
      "metadata": {
        "id": "0IvsY86t4skH"
      },
      "source": [
        "f = open('/content/Poil_contig.fa')\n",
        "contig=f.readlines()"
      ],
      "execution_count": null,
      "outputs": []
    },
    {
      "cell_type": "code",
      "metadata": {
        "colab": {
          "base_uri": "https://localhost:8080/"
        },
        "id": "OEOPQIF0gJpe",
        "outputId": "625ac0e6-9c03-47ce-a078-824e2efc2895"
      },
      "source": [
        "print(f'Число контигов: {count_contigs(contig)}')"
      ],
      "execution_count": null,
      "outputs": [
        {
          "output_type": "stream",
          "name": "stdout",
          "text": [
            "Число контигов: 622\n"
          ]
        }
      ]
    },
    {
      "cell_type": "code",
      "metadata": {
        "colab": {
          "base_uri": "https://localhost:8080/"
        },
        "id": "S1OOgidMgmNG",
        "outputId": "f95984df-a0e2-4b7f-a0d0-4bb26f8f67dc"
      },
      "source": [
        "print(f'Суммарная длина контигов: {total_contigs(contig)}')"
      ],
      "execution_count": null,
      "outputs": [
        {
          "output_type": "stream",
          "name": "stdout",
          "text": [
            "Суммарная длина контигов: 3925347\n"
          ]
        }
      ]
    },
    {
      "cell_type": "code",
      "metadata": {
        "colab": {
          "base_uri": "https://localhost:8080/"
        },
        "id": "HocW-pqeiUDG",
        "outputId": "6b986e44-1617-48f6-c59b-4ca0e7e24ee6"
      },
      "source": [
        "print(f'Максимальная длина контига: {max_contigs(contig)}')"
      ],
      "execution_count": null,
      "outputs": [
        {
          "output_type": "stream",
          "name": "stdout",
          "text": [
            "Максимальная длина контига: 179307\n"
          ]
        }
      ]
    },
    {
      "cell_type": "code",
      "metadata": {
        "id": "G1LT77P-mOgV",
        "colab": {
          "base_uri": "https://localhost:8080/"
        },
        "outputId": "207da7ab-b19f-44a1-aa75-1a0d8cc7e2dd"
      },
      "source": [
        "print(f'N50: {N50(contig)}')"
      ],
      "execution_count": null,
      "outputs": [
        {
          "output_type": "stream",
          "name": "stdout",
          "text": [
            "N50: 47611\n"
          ]
        }
      ]
    },
    {
      "cell_type": "markdown",
      "metadata": {
        "id": "3AyWJHc5wuc-"
      },
      "source": [
        "#**Platanus scaffold**"
      ]
    },
    {
      "cell_type": "code",
      "metadata": {
        "id": "5uBHRSrewyTm"
      },
      "source": [
        "f = open('/content/Poil_scaffold.fa')\n",
        "contig=f.readlines()"
      ],
      "execution_count": null,
      "outputs": []
    },
    {
      "cell_type": "code",
      "metadata": {
        "colab": {
          "base_uri": "https://localhost:8080/"
        },
        "id": "T8n3OJYm4_3J",
        "outputId": "00f213e7-5d04-4a66-955f-9c6c8beaf5fb"
      },
      "source": [
        "print(f'Число контигов: {count_contigs(contig)}')"
      ],
      "execution_count": null,
      "outputs": [
        {
          "output_type": "stream",
          "name": "stdout",
          "text": [
            "Число контигов: 71\n"
          ]
        }
      ]
    },
    {
      "cell_type": "code",
      "metadata": {
        "colab": {
          "base_uri": "https://localhost:8080/"
        },
        "id": "7js0yAHG5Bia",
        "outputId": "a95d3d04-f4fe-42f2-e5cf-34f248b3ff3e"
      },
      "source": [
        "print(f'Суммарная длина контигов: {total_contigs(contig)}')"
      ],
      "execution_count": null,
      "outputs": [
        {
          "output_type": "stream",
          "name": "stdout",
          "text": [
            "Суммарная длина контигов: 3873744\n"
          ]
        }
      ]
    },
    {
      "cell_type": "code",
      "metadata": {
        "colab": {
          "base_uri": "https://localhost:8080/"
        },
        "id": "ykrlzKvz5HHZ",
        "outputId": "24d5d61f-96ba-4dbf-ece7-5a022123422c"
      },
      "source": [
        "print(f'Максимальная длина контига: {max_contigs(contig)}')"
      ],
      "execution_count": null,
      "outputs": [
        {
          "output_type": "stream",
          "name": "stdout",
          "text": [
            "Максимальная длина контига: 3832152\n"
          ]
        }
      ]
    },
    {
      "cell_type": "code",
      "metadata": {
        "colab": {
          "base_uri": "https://localhost:8080/"
        },
        "id": "xeJQUyv05MK5",
        "outputId": "156184f9-5c9f-4e5d-a1ed-a08f1d035b10"
      },
      "source": [
        "print(f'N50: {N50(contig)}')"
      ],
      "execution_count": null,
      "outputs": [
        {
          "output_type": "stream",
          "name": "stdout",
          "text": [
            "N50: 3832152\n"
          ]
        }
      ]
    },
    {
      "cell_type": "markdown",
      "metadata": {
        "id": "o_UzXoJH7z7h"
      },
      "source": [
        "#**Самый длинный скаффолд**"
      ]
    },
    {
      "cell_type": "code",
      "metadata": {
        "id": "Xh1UxRhj7-uS"
      },
      "source": [
        "f = open('/content/scaffold1_len3832152_cov231.fasta')\n",
        "contig=f.readlines()"
      ],
      "execution_count": null,
      "outputs": []
    },
    {
      "cell_type": "code",
      "metadata": {
        "colab": {
          "base_uri": "https://localhost:8080/"
        },
        "id": "agbsny3k-5NO",
        "outputId": "2e758a0f-25a9-40c1-fc9a-c5c51aa62dc6"
      },
      "source": [
        "print(f'Число гэпов: {find_gaps(contig)}')"
      ],
      "execution_count": null,
      "outputs": [
        {
          "output_type": "stream",
          "name": "stdout",
          "text": [
            "Число гэпов: 64\n"
          ]
        }
      ]
    },
    {
      "cell_type": "code",
      "metadata": {
        "colab": {
          "base_uri": "https://localhost:8080/"
        },
        "id": "NbsPxwWZAsFv",
        "outputId": "aeaf686b-5c5f-4dc6-81ac-995ddc40f2bd"
      },
      "source": [
        "print(f'Суммарная длина гэпов гэпов: {gap_length(contig)}')"
      ],
      "execution_count": null,
      "outputs": [
        {
          "output_type": "stream",
          "name": "stdout",
          "text": [
            "Суммарная длина гэпов гэпов: 6800\n"
          ]
        }
      ]
    },
    {
      "cell_type": "markdown",
      "metadata": {
        "id": "Gx_fXcXHWIgO"
      },
      "source": [
        "#**Platanus gap_close**"
      ]
    },
    {
      "cell_type": "code",
      "metadata": {
        "id": "SnT3BSDOWRIa"
      },
      "source": [
        "f = open('/content/oil_genome.fna')\n",
        "contig=f.readlines()"
      ],
      "execution_count": 1,
      "outputs": []
    },
    {
      "cell_type": "code",
      "metadata": {
        "colab": {
          "base_uri": "https://localhost:8080/"
        },
        "id": "kAVMQ9-SWfjH",
        "outputId": "80968682-2381-4a66-d844-015b561e343e"
      },
      "source": [
        "print(f'Число гэпов: {find_gaps(contig)}')"
      ],
      "execution_count": 6,
      "outputs": [
        {
          "output_type": "stream",
          "name": "stdout",
          "text": [
            "Число гэпов: 7\n"
          ]
        }
      ]
    },
    {
      "cell_type": "code",
      "metadata": {
        "colab": {
          "base_uri": "https://localhost:8080/"
        },
        "id": "tN6YdtJmWhEb",
        "outputId": "69835a51-65d8-4e07-b4b5-9f68f5b703e5"
      },
      "source": [
        "print(f'Суммарная длина гэпов гэпов: {gap_length(contig)}')"
      ],
      "execution_count": 7,
      "outputs": [
        {
          "output_type": "stream",
          "name": "stdout",
          "text": [
            "Суммарная длина гэпов гэпов: 1647\n"
          ]
        }
      ]
    }
  ]
}